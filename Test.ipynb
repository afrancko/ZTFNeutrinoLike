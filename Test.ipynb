{
 "cells": [
  {
   "cell_type": "code",
   "execution_count": 1,
   "metadata": {
    "collapsed": true
   },
   "outputs": [],
   "source": [
    "import numpy as np\n",
    "import pickle\n",
    "%matplotlib inline\n",
    "import matplotlib.pyplot as plt"
   ]
  },
  {
   "cell_type": "code",
   "execution_count": 28,
   "metadata": {
    "collapsed": true
   },
   "outputs": [],
   "source": [
    "nugen = \"data/GFU/SplineMPEmax.MuEx.MC.npy\"\n",
    "GFU_data = \"data/GFU/SplineMPEmax.MuEx.IC86-2016.npy\"\n",
    "LCC_path = \"/Users/afrancko/Optical/SEDmWhitePaper/LC_Uli/lcs_strawman_msip6m_Ibc_nugent_detected_real_y2016.pkl\"\n"
   ]
  },
  {
   "cell_type": "code",
   "execution_count": 54,
   "metadata": {
    "collapsed": false
   },
   "outputs": [
    {
     "name": "stdout",
     "output_type": "stream",
     "text": [
      "[('Run', '<i8'), ('Event', '<i8'), ('azimuth', '<f8'), ('zenith', '<f8'), ('ra', '<f8'), ('dec', '<f8'), ('sigma', '<f8'), ('logE', '<f8'), ('time', '<f8')]\n"
     ]
    }
   ],
   "source": [
    "f = np.load(nugen)\n",
    "f_data = np.load(GFU_data)\n",
    "print f_data.dtype"
   ]
  },
  {
   "cell_type": "code",
   "execution_count": 55,
   "metadata": {
    "collapsed": false
   },
   "outputs": [
    {
     "name": "stdout",
     "output_type": "stream",
     "text": [
      "[ 2458076.86815887  2458076.8691937   2458076.87234241 ...,\n",
      "  2458439.16104019  2458439.16154456  2458439.16292766]\n"
     ]
    }
   ],
   "source": [
    "print f_data['time']+2400000.5+365*1.5\n"
   ]
  },
  {
   "cell_type": "code",
   "execution_count": 29,
   "metadata": {
    "collapsed": false
   },
   "outputs": [],
   "source": [
    "lc= pickle.load( open( LCC_path, \"rb\" ) )\n"
   ]
  },
  {
   "cell_type": "code",
   "execution_count": 32,
   "metadata": {
    "collapsed": false
   },
   "outputs": [
    {
     "name": "stdout",
     "output_type": "stream",
     "text": [
      "['idx_orig', 'mwebv', 'hostr_v', 't0', 'hostebv', 'ra', 'amplitude', 'mwebv_sfd98', 'z', 'dec']\n",
      "0.0813096997249\n"
     ]
    }
   ],
   "source": [
    "lc.keys() # meta, lcs\n",
    "print lc['meta'].keys()"
   ]
  },
  {
   "cell_type": "code",
   "execution_count": 65,
   "metadata": {
    "collapsed": false
   },
   "outputs": [
    {
     "name": "stdout",
     "output_type": "stream",
     "text": [
      "180.12708\n"
     ]
    }
   ],
   "source": [
    "maxLC= max([max(lc['lcs'][i]['time']) for i in range(len(lc['lcs']))])\n",
    "minLC= min([min(lc['lcs'][i]['time']) for i in range(len(lc['lcs']))])\n",
    " \n",
    "print maxLC-minLC\n"
   ]
  },
  {
   "cell_type": "code",
   "execution_count": 39,
   "metadata": {
    "collapsed": false
   },
   "outputs": [
    {
     "data": {
      "text/plain": [
       "35"
      ]
     },
     "execution_count": 39,
     "metadata": {},
     "output_type": "execute_result"
    }
   ],
   "source": [
    "np.argmax(lc['lcs'][0]['time'])"
   ]
  },
  {
   "cell_type": "code",
   "execution_count": 55,
   "metadata": {
    "collapsed": false
   },
   "outputs": [
    {
     "data": {
      "text/plain": [
       "<matplotlib.legend.Legend at 0x1d3bd3d10>"
      ]
     },
     "execution_count": 55,
     "metadata": {},
     "output_type": "execute_result"
    },
    {
     "data": {
      "image/png": "[encoded data removed]",
      "text/plain": [
       "<matplotlib.figure.Figure at 0x1d3b4a6d0>"
      ]
     },
     "metadata": {},
     "output_type": "display_data"
    }
   ],
   "source": [
    "plt.figure()\n",
    "bins = np.linspace(0.0,8,100)\n",
    "gamma=-2.1\n",
    "a = plt.hist(f['logE'],bins=bins, normed=True, alpha=0.5, weights=f['ow']*f['trueE']**gamma, label='Signal')\n",
    "a = plt.hist(f_data['logE'],bins=bins, normed=True, alpha=0.5, label='Data')\n",
    "plt.legend()"
   ]
  },
  {
   "cell_type": "code",
   "execution_count": 54,
   "metadata": {
    "collapsed": false
   },
   "outputs": [
    {
     "name": "stdout",
     "output_type": "stream",
     "text": [
      "[ 1.90418929  2.59771935  1.56371607 ...,  1.90204974  1.51044635\n",
      "  0.28134715]\n"
     ]
    }
   ],
   "source": [
    "print f["
   ]
  },
  {
   "cell_type": "code",
   "execution_count": 58,
   "metadata": {
    "collapsed": true
   },
   "outputs": [],
   "source": [
    "def norm_hist(h):\n",
    "    h = np.array([i / np.sum(i) if np.sum(i) > 0 else i / 1. for i in h])\n",
    "    return h"
   ]
  },
  {
   "cell_type": "code",
   "execution_count": 70,
   "metadata": {
    "collapsed": false
   },
   "outputs": [
    {
     "name": "stdout",
     "output_type": "stream",
     "text": [
      "Create Energy Spline..check yourself whether it is ok\n",
      "[-0.42013127 -0.90666258 -0.63040855 ..., -0.10360909 -0.29461578\n",
      "  0.38715085] [ 2.85933961  2.61315392  2.86119457 ...,  3.00726384  2.97144888\n",
      "  4.24649949]\n"
     ]
    }
   ],
   "source": [
    "Hs = dict()\n",
    "    \n",
    "mask_data = np.isfinite(f_data['zenith'])\n",
    "mask = np.isfinite(f['zenith'])\n",
    "#delta_mask = np.degrees(delta_psi(nuDataSig['trueZenith'], nuDataSig['trueAzimuth'], nuDataSig[zen_reco], nuDataSig[az_reco]))<5\n",
    "\n",
    "# energy ratio 2D spline\n",
    "print('Create Energy Spline..check yourself whether it is ok')\n",
    "zenith_bins=list(np.linspace(-1.,0.,10, endpoint=False)) + list(np.linspace(0.,1.,8))\n",
    "#tot_weight = np.sum([f[flux][mask & delta_mask] for flux in ftypes], axis=0)\n",
    "#tot_weight = np.sum([nuData[flux][mask_data] for flux in ftypes, axis=0)\n",
    "#tot_weight = np.sum([f_data['weight'][mask_data] for flux in ['weight']], axis=0)\n",
    "\n",
    "#print tot_weight\n",
    "    \n",
    "x = np.cos(f_data['zenith'][mask_data]) \n",
    "y = f_data['logE'][mask_data]\n",
    "\n",
    "print x, y\n",
    "    \n",
    "H_tot, xedges, yedges = np.histogram2d(x, y,\n",
    "                                        #weights=tot_weight,\n",
    "                                       bins=(zenith_bins,np.linspace(2.0, 8, 20)),\n",
    "                                       normed=True)\n",
    "\n",
    "H_tot = np.ma.masked_array(norm_hist(H_tot))\n",
    "H_tot.mask = (H_tot <= 0)\n",
    " \n",
    "x = np.cos(f['zenith'][mask]) \n",
    "y = f['logE'][mask]\n",
    " \n",
    "H_astro, xedges, yedges = np.histogram2d(x, y,\n",
    "                                        weights=f['ow'][mask]*f['trueE'][mask]**(-2.1),\n",
    "                                        bins=(zenith_bins, np.linspace(2.0, 8, 20)),\n",
    "                                        normed=True)\n",
    "H_astro = np.ma.masked_array(norm_hist(H_astro))\n",
    "H_astro.mask = (H_astro <= 0)\n"
   ]
  },
  {
   "cell_type": "code",
   "execution_count": 75,
   "metadata": {
    "collapsed": false
   },
   "outputs": [
    {
     "data": {
      "text/plain": [
       "<matplotlib.colorbar.Colorbar at 0x1ce2fdd90>"
      ]
     },
     "execution_count": 75,
     "metadata": {},
     "output_type": "execute_result"
    },
    {
     "data": {
      "image/png": "[encoded data removed]",
      "text/plain": [
       "<matplotlib.figure.Figure at 0x1d33805d0>"
      ]
     },
     "metadata": {},
     "output_type": "display_data"
    },
    {
     "data": {
      "image/png": "[encoded data removed]",
      "text/plain": [
       "<matplotlib.figure.Figure at 0x1ce60c450>"
      ]
     },
     "metadata": {},
     "output_type": "display_data"
    },
    {
     "data": {
      "image/png": "[encoded data removed]",
      "text/plain": [
       "<matplotlib.figure.Figure at 0x1ce486ad0>"
      ]
     },
     "metadata": {},
     "output_type": "display_data"
    }
   ],
   "source": [
    "#plt.pcolormesh(zenith_bins, np.linspace(2.0, 8, 20), H_tot)\n",
    "plt.figure()\n",
    "plt.imshow(H_tot)\n",
    "plt.colorbar()\n",
    "\n",
    "plt.figure()\n",
    "plt.imshow(H_astro)\n",
    "plt.colorbar()\n",
    "\n",
    "plt.figure()\n",
    "plt.imshow(H_astro/H_tot)\n",
    "plt.colorbar()"
   ]
  },
  {
   "cell_type": "code",
   "execution_count": 100,
   "metadata": {
    "collapsed": false
   },
   "outputs": [
    {
     "name": "stdout",
     "output_type": "stream",
     "text": [
      "[ 57528.86815887  57528.8691937   57528.87234241  57528.87408644\n",
      "  57528.87434584  57528.87475511  57528.87601825  57528.87733405\n",
      "  57528.87801159  57528.87907392]\n",
      "8914490 205301\n"
     ]
    }
   ],
   "source": [
    "t0 = min(f_data['time']) + 100\n",
    "print f_data['time'][0:10]\n",
    "tmax=min(f_data['time']) + 100\n",
    "mask = abs(f_data['time'] - t0)>5. #or ((f['time'])>(tmax-5) and (f['time'])<(tmax+30))\n",
    "mask1 = (f_data['time']>(tmax-5))  & (f_data['time']<(tmax+30))\n",
    "#mask2 = f_data['time']<(tmax+30)\n",
    "\n",
    "#mask = np.asarray(mask)\n",
    "\n",
    "fcut = f_data[mask | mask1]# | (mask1&mask2)]\n",
    "\n",
    "print len(f), len(fcut)"
   ]
  },
  {
   "cell_type": "code",
   "execution_count": 53,
   "metadata": {
    "collapsed": false
   },
   "outputs": [
    {
     "ename": "NameError",
     "evalue": "name 'fdata' is not defined",
     "output_type": "error",
     "traceback": [
      "\u001b[0;31m---------------------------------------------------------------------------\u001b[0m",
      "\u001b[0;31mNameError\u001b[0m                                 Traceback (most recent call last)",
      "\u001b[0;32m<ipython-input-53-3ac88290cb54>\u001b[0m in \u001b[0;36m<module>\u001b[0;34m()\u001b[0m\n\u001b[0;32m----> 1\u001b[0;31m \u001b[0mfdata\u001b[0m\u001b[0;34m[\u001b[0m\u001b[0;34m'time'\u001b[0m\u001b[0;34m]\u001b[0m \u001b[0;34m+\u001b[0m \u001b[0;36m2400000.5\u001b[0m\u001b[0;34m+\u001b[0m\u001b[0;36m365.\u001b[0m\u001b[0;34m\u001b[0m\u001b[0m\n\u001b[0m",
      "\u001b[0;31mNameError\u001b[0m: name 'fdata' is not defined"
     ]
    }
   ],
   "source": [
    "fdata['time'] + 2400000.5+365."
   ]
  },
  {
   "cell_type": "code",
   "execution_count": 115,
   "metadata": {
    "collapsed": false
   },
   "outputs": [
    {
     "name": "stdout",
     "output_type": "stream",
     "text": [
      "[-0.00292645 -0.00293046 -0.00294247 -0.00296244 -0.00299031 -0.00302598\n",
      " -0.00306933 -0.00312021 -0.00317846 -0.00324388 -0.00331625 -0.00339534\n",
      " -0.00348089 -0.00357262 -0.00367023 -0.00377343 -0.00388189 -0.00399527\n",
      " -0.00411323 -0.0042354  -0.00436144 -0.00449097 -0.00462362 -0.00475903\n",
      " -0.00489681 -0.0050366  -0.00517803 -0.00532074 -0.00546437 -0.00560857\n",
      " -0.00575301 -0.00589735 -0.00604127 -0.00618447 -0.00632666 -0.00646756\n",
      " -0.0066069  -0.00674444 -0.00687994 -0.00701319 -0.00714399 -0.00727215\n",
      " -0.00739752 -0.00751994 -0.00763927 -0.00775541 -0.00786826 -0.00797773\n",
      " -0.00808374 -0.00818626 -0.00828524 -0.00838065 -0.00847249 -0.00856075\n",
      " -0.00864545 -0.00872661 -0.00880426 -0.00887845 -0.00894922 -0.00901665\n",
      " -0.00908079 -0.00914173 -0.00919953 -0.00925428 -0.00930608 -0.00935501\n",
      " -0.00940117 -0.00944465 -0.00948556 -0.009524   -0.00956007 -0.00959386\n",
      " -0.00962548 -0.00965503 -0.00968261 -0.00970832 -0.00973224 -0.00975449\n",
      " -0.00977514 -0.00979428 -0.00981201 -0.00982841 -0.00984355 -0.00985752\n",
      " -0.00987039 -0.00988223 -0.00989311 -0.00990309 -0.00991225 -0.00992062\n",
      " -0.00992828 -0.00993527 -0.00994165 -0.00994746 -0.00995274 -0.00995755\n",
      " -0.0099619  -0.00996585 -0.00996942 -0.00997265]\n",
      "0.0\n"
     ]
    },
    {
     "ename": "ValueError",
     "evalue": "x and y must have same first dimension, but have shapes (100,) and (1,)",
     "output_type": "error",
     "traceback": [
      "\u001b[0;31m---------------------------------------------------------------------------\u001b[0m",
      "\u001b[0;31mValueError\u001b[0m                                Traceback (most recent call last)",
      "\u001b[0;32m<ipython-input-115-d0a1cf51d0c4>\u001b[0m in \u001b[0;36m<module>\u001b[0;34m()\u001b[0m\n\u001b[1;32m     23\u001b[0m \u001b[0;34m\u001b[0m\u001b[0m\n\u001b[1;32m     24\u001b[0m \u001b[0mplt\u001b[0m\u001b[0;34m.\u001b[0m\u001b[0mfigure\u001b[0m\u001b[0;34m(\u001b[0m\u001b[0;34m)\u001b[0m\u001b[0;34m\u001b[0m\u001b[0m\n\u001b[0;32m---> 25\u001b[0;31m \u001b[0mplt\u001b[0m\u001b[0;34m.\u001b[0m\u001b[0mplot\u001b[0m\u001b[0;34m(\u001b[0m\u001b[0mnp\u001b[0m\u001b[0;34m.\u001b[0m\u001b[0mrad2deg\u001b[0m\u001b[0;34m(\u001b[0m\u001b[0mdist\u001b[0m\u001b[0;34m)\u001b[0m\u001b[0;34m,\u001b[0m \u001b[0mts\u001b[0m\u001b[0;34m)\u001b[0m\u001b[0;34m\u001b[0m\u001b[0m\n\u001b[0m",
      "\u001b[0;32m/Users/afrancko/anaconda/lib/python2.7/site-packages/matplotlib/pyplot.pyc\u001b[0m in \u001b[0;36mplot\u001b[0;34m(*args, **kwargs)\u001b[0m\n\u001b[1;32m   3238\u001b[0m                       mplDeprecation)\n\u001b[1;32m   3239\u001b[0m     \u001b[0;32mtry\u001b[0m\u001b[0;34m:\u001b[0m\u001b[0;34m\u001b[0m\u001b[0m\n\u001b[0;32m-> 3240\u001b[0;31m         \u001b[0mret\u001b[0m \u001b[0;34m=\u001b[0m \u001b[0max\u001b[0m\u001b[0;34m.\u001b[0m\u001b[0mplot\u001b[0m\u001b[0;34m(\u001b[0m\u001b[0;34m*\u001b[0m\u001b[0margs\u001b[0m\u001b[0;34m,\u001b[0m \u001b[0;34m**\u001b[0m\u001b[0mkwargs\u001b[0m\u001b[0;34m)\u001b[0m\u001b[0;34m\u001b[0m\u001b[0m\n\u001b[0m\u001b[1;32m   3241\u001b[0m     \u001b[0;32mfinally\u001b[0m\u001b[0;34m:\u001b[0m\u001b[0;34m\u001b[0m\u001b[0m\n\u001b[1;32m   3242\u001b[0m         \u001b[0max\u001b[0m\u001b[0;34m.\u001b[0m\u001b[0m_hold\u001b[0m \u001b[0;34m=\u001b[0m \u001b[0mwashold\u001b[0m\u001b[0;34m\u001b[0m\u001b[0m\n",
      "\u001b[0;32m/Users/afrancko/anaconda/lib/python2.7/site-packages/matplotlib/__init__.pyc\u001b[0m in \u001b[0;36minner\u001b[0;34m(ax, *args, **kwargs)\u001b[0m\n\u001b[1;32m   1708\u001b[0m                     warnings.warn(msg % (label_namer, func.__name__),\n\u001b[1;32m   1709\u001b[0m                                   RuntimeWarning, stacklevel=2)\n\u001b[0;32m-> 1710\u001b[0;31m             \u001b[0;32mreturn\u001b[0m \u001b[0mfunc\u001b[0m\u001b[0;34m(\u001b[0m\u001b[0max\u001b[0m\u001b[0;34m,\u001b[0m \u001b[0;34m*\u001b[0m\u001b[0margs\u001b[0m\u001b[0;34m,\u001b[0m \u001b[0;34m**\u001b[0m\u001b[0mkwargs\u001b[0m\u001b[0;34m)\u001b[0m\u001b[0;34m\u001b[0m\u001b[0m\n\u001b[0m\u001b[1;32m   1711\u001b[0m         \u001b[0mpre_doc\u001b[0m \u001b[0;34m=\u001b[0m \u001b[0minner\u001b[0m\u001b[0;34m.\u001b[0m\u001b[0m__doc__\u001b[0m\u001b[0;34m\u001b[0m\u001b[0m\n\u001b[1;32m   1712\u001b[0m         \u001b[0;32mif\u001b[0m \u001b[0mpre_doc\u001b[0m \u001b[0;32mis\u001b[0m \u001b[0mNone\u001b[0m\u001b[0;34m:\u001b[0m\u001b[0;34m\u001b[0m\u001b[0m\n",
      "\u001b[0;32m/Users/afrancko/anaconda/lib/python2.7/site-packages/matplotlib/axes/_axes.pyc\u001b[0m in \u001b[0;36mplot\u001b[0;34m(self, *args, **kwargs)\u001b[0m\n\u001b[1;32m   1435\u001b[0m         \u001b[0mkwargs\u001b[0m \u001b[0;34m=\u001b[0m \u001b[0mcbook\u001b[0m\u001b[0;34m.\u001b[0m\u001b[0mnormalize_kwargs\u001b[0m\u001b[0;34m(\u001b[0m\u001b[0mkwargs\u001b[0m\u001b[0;34m,\u001b[0m \u001b[0m_alias_map\u001b[0m\u001b[0;34m)\u001b[0m\u001b[0;34m\u001b[0m\u001b[0m\n\u001b[1;32m   1436\u001b[0m \u001b[0;34m\u001b[0m\u001b[0m\n\u001b[0;32m-> 1437\u001b[0;31m         \u001b[0;32mfor\u001b[0m \u001b[0mline\u001b[0m \u001b[0;32min\u001b[0m \u001b[0mself\u001b[0m\u001b[0;34m.\u001b[0m\u001b[0m_get_lines\u001b[0m\u001b[0;34m(\u001b[0m\u001b[0;34m*\u001b[0m\u001b[0margs\u001b[0m\u001b[0;34m,\u001b[0m \u001b[0;34m**\u001b[0m\u001b[0mkwargs\u001b[0m\u001b[0;34m)\u001b[0m\u001b[0;34m:\u001b[0m\u001b[0;34m\u001b[0m\u001b[0m\n\u001b[0m\u001b[1;32m   1438\u001b[0m             \u001b[0mself\u001b[0m\u001b[0;34m.\u001b[0m\u001b[0madd_line\u001b[0m\u001b[0;34m(\u001b[0m\u001b[0mline\u001b[0m\u001b[0;34m)\u001b[0m\u001b[0;34m\u001b[0m\u001b[0m\n\u001b[1;32m   1439\u001b[0m             \u001b[0mlines\u001b[0m\u001b[0;34m.\u001b[0m\u001b[0mappend\u001b[0m\u001b[0;34m(\u001b[0m\u001b[0mline\u001b[0m\u001b[0;34m)\u001b[0m\u001b[0;34m\u001b[0m\u001b[0m\n",
      "\u001b[0;32m/Users/afrancko/anaconda/lib/python2.7/site-packages/matplotlib/axes/_base.pyc\u001b[0m in \u001b[0;36m_grab_next_args\u001b[0;34m(self, *args, **kwargs)\u001b[0m\n\u001b[1;32m    402\u001b[0m                 \u001b[0mthis\u001b[0m \u001b[0;34m+=\u001b[0m \u001b[0margs\u001b[0m\u001b[0;34m[\u001b[0m\u001b[0;36m0\u001b[0m\u001b[0;34m]\u001b[0m\u001b[0;34m,\u001b[0m\u001b[0;34m\u001b[0m\u001b[0m\n\u001b[1;32m    403\u001b[0m                 \u001b[0margs\u001b[0m \u001b[0;34m=\u001b[0m \u001b[0margs\u001b[0m\u001b[0;34m[\u001b[0m\u001b[0;36m1\u001b[0m\u001b[0;34m:\u001b[0m\u001b[0;34m]\u001b[0m\u001b[0;34m\u001b[0m\u001b[0m\n\u001b[0;32m--> 404\u001b[0;31m             \u001b[0;32mfor\u001b[0m \u001b[0mseg\u001b[0m \u001b[0;32min\u001b[0m \u001b[0mself\u001b[0m\u001b[0;34m.\u001b[0m\u001b[0m_plot_args\u001b[0m\u001b[0;34m(\u001b[0m\u001b[0mthis\u001b[0m\u001b[0;34m,\u001b[0m \u001b[0mkwargs\u001b[0m\u001b[0;34m)\u001b[0m\u001b[0;34m:\u001b[0m\u001b[0;34m\u001b[0m\u001b[0m\n\u001b[0m\u001b[1;32m    405\u001b[0m                 \u001b[0;32myield\u001b[0m \u001b[0mseg\u001b[0m\u001b[0;34m\u001b[0m\u001b[0m\n\u001b[1;32m    406\u001b[0m \u001b[0;34m\u001b[0m\u001b[0m\n",
      "\u001b[0;32m/Users/afrancko/anaconda/lib/python2.7/site-packages/matplotlib/axes/_base.pyc\u001b[0m in \u001b[0;36m_plot_args\u001b[0;34m(self, tup, kwargs)\u001b[0m\n\u001b[1;32m    382\u001b[0m             \u001b[0mx\u001b[0m\u001b[0;34m,\u001b[0m \u001b[0my\u001b[0m \u001b[0;34m=\u001b[0m \u001b[0mindex_of\u001b[0m\u001b[0;34m(\u001b[0m\u001b[0mtup\u001b[0m\u001b[0;34m[\u001b[0m\u001b[0;34m-\u001b[0m\u001b[0;36m1\u001b[0m\u001b[0;34m]\u001b[0m\u001b[0;34m)\u001b[0m\u001b[0;34m\u001b[0m\u001b[0m\n\u001b[1;32m    383\u001b[0m \u001b[0;34m\u001b[0m\u001b[0m\n\u001b[0;32m--> 384\u001b[0;31m         \u001b[0mx\u001b[0m\u001b[0;34m,\u001b[0m \u001b[0my\u001b[0m \u001b[0;34m=\u001b[0m \u001b[0mself\u001b[0m\u001b[0;34m.\u001b[0m\u001b[0m_xy_from_xy\u001b[0m\u001b[0;34m(\u001b[0m\u001b[0mx\u001b[0m\u001b[0;34m,\u001b[0m \u001b[0my\u001b[0m\u001b[0;34m)\u001b[0m\u001b[0;34m\u001b[0m\u001b[0m\n\u001b[0m\u001b[1;32m    385\u001b[0m \u001b[0;34m\u001b[0m\u001b[0m\n\u001b[1;32m    386\u001b[0m         \u001b[0;32mif\u001b[0m \u001b[0mself\u001b[0m\u001b[0;34m.\u001b[0m\u001b[0mcommand\u001b[0m \u001b[0;34m==\u001b[0m \u001b[0;34m'plot'\u001b[0m\u001b[0;34m:\u001b[0m\u001b[0;34m\u001b[0m\u001b[0m\n",
      "\u001b[0;32m/Users/afrancko/anaconda/lib/python2.7/site-packages/matplotlib/axes/_base.pyc\u001b[0m in \u001b[0;36m_xy_from_xy\u001b[0;34m(self, x, y)\u001b[0m\n\u001b[1;32m    241\u001b[0m         \u001b[0;32mif\u001b[0m \u001b[0mx\u001b[0m\u001b[0;34m.\u001b[0m\u001b[0mshape\u001b[0m\u001b[0;34m[\u001b[0m\u001b[0;36m0\u001b[0m\u001b[0;34m]\u001b[0m \u001b[0;34m!=\u001b[0m \u001b[0my\u001b[0m\u001b[0;34m.\u001b[0m\u001b[0mshape\u001b[0m\u001b[0;34m[\u001b[0m\u001b[0;36m0\u001b[0m\u001b[0;34m]\u001b[0m\u001b[0;34m:\u001b[0m\u001b[0;34m\u001b[0m\u001b[0m\n\u001b[1;32m    242\u001b[0m             raise ValueError(\"x and y must have same first dimension, but \"\n\u001b[0;32m--> 243\u001b[0;31m                              \"have shapes {} and {}\".format(x.shape, y.shape))\n\u001b[0m\u001b[1;32m    244\u001b[0m         \u001b[0;32mif\u001b[0m \u001b[0mx\u001b[0m\u001b[0;34m.\u001b[0m\u001b[0mndim\u001b[0m \u001b[0;34m>\u001b[0m \u001b[0;36m2\u001b[0m \u001b[0;32mor\u001b[0m \u001b[0my\u001b[0m\u001b[0;34m.\u001b[0m\u001b[0mndim\u001b[0m \u001b[0;34m>\u001b[0m \u001b[0;36m2\u001b[0m\u001b[0;34m:\u001b[0m\u001b[0;34m\u001b[0m\u001b[0m\n\u001b[1;32m    245\u001b[0m             raise ValueError(\"x and y can be no greater than 2-D, but have \"\n",
      "\u001b[0;31mValueError\u001b[0m: x and y must have same first dimension, but have shapes (100,) and (1,)"
     ]
    },
    {
     "data": {
      "image/png": "[encoded data removed]",
      "text/plain": [
       "<matplotlib.figure.Figure at 0x1ce646cd0>"
      ]
     },
     "metadata": {},
     "output_type": "display_data"
    },
    {
     "data": {
      "image/png": "[encoded data removed]",
      "text/plain": [
       "<matplotlib.figure.Figure at 0x1d33a67d0>"
      ]
     },
     "metadata": {},
     "output_type": "display_data"
    }
   ],
   "source": [
    "\n",
    "sigma = np.deg2rad(1.5)\n",
    "dist = np.linspace(0,np.deg2rad(5),100)\n",
    "S = 1./(2.*np.pi*np.rad2deg(sigma)**2)*np.exp(-dist**2 / (2.*sigma**2)) * 0.5\n",
    "B = 0.05 * np.ones_like(dist)\n",
    "\n",
    "plt.figure()\n",
    "#plt.plot(dist, S)\n",
    "#plt.plot(dist, B)\n",
    "plt.plot(np.rad2deg(dist), S/B)\n",
    "plt.yscale('log')\n",
    "#plt.ylim(1e-10,1)\n",
    "\n",
    "N = len(S)\n",
    "X = 1./N * (S/B-1)\n",
    "\n",
    "print X\n",
    "\n",
    "ns = 0\n",
    "ts = 2*np.sum(np.log(ns*X+1))\n",
    "\n",
    "print ts\n",
    "\n",
    "plt.figure()\n",
    "plt.plot(np.rad2deg(dist), ts)\n"
   ]
  },
  {
   "cell_type": "code",
   "execution_count": 15,
   "metadata": {
    "collapsed": true
   },
   "outputs": [],
   "source": [
    "a = [1.,2.]\n",
    "a = np.asarray(a)\n",
    "b = 1."
   ]
  },
  {
   "cell_type": "code",
   "execution_count": 16,
   "metadata": {
    "collapsed": false
   },
   "outputs": [
    {
     "name": "stdout",
     "output_type": "stream",
     "text": [
      "<type 'numpy.ndarray'> <type 'float'>\n"
     ]
    }
   ],
   "source": [
    "print type(a), type(b)"
   ]
  },
  {
   "cell_type": "code",
   "execution_count": 18,
   "metadata": {
    "collapsed": false
   },
   "outputs": [
    {
     "data": {
      "text/plain": [
       "True"
      ]
     },
     "execution_count": 18,
     "metadata": {},
     "output_type": "execute_result"
    }
   ],
   "source": [
    "type(b) is float"
   ]
  },
  {
   "cell_type": "code",
   "execution_count": 6,
   "metadata": {
    "collapsed": true
   },
   "outputs": [],
   "source": [
    "f = np.load(\"output/test_llh_0_2.10_0.npy\")"
   ]
  },
  {
   "cell_type": "code",
   "execution_count": 7,
   "metadata": {
    "collapsed": false
   },
   "outputs": [
    {
     "name": "stdout",
     "output_type": "stream",
     "text": [
      "0.497762863535\n",
      "894\n"
     ]
    },
    {
     "data": {
      "text/plain": [
       "[<matplotlib.lines.Line2D at 0x1066b4a90>]"
      ]
     },
     "execution_count": 7,
     "metadata": {},
     "output_type": "execute_result"
    },
    {
     "data": {
      "image/png": "[encoded data removed]",
      "text/plain": [
       "<matplotlib.figure.Figure at 0x10731e750>"
      ]
     },
     "metadata": {},
     "output_type": "display_data"
    },
    {
     "data": {
      "image/png": "[encoded data removed]",
      "text/plain": [
       "<matplotlib.figure.Figure at 0x10735d210>"
      ]
     },
     "metadata": {},
     "output_type": "display_data"
    }
   ],
   "source": [
    "plt.figure()\n",
    "h = plt.hist(f,bins=np.linspace(0,10,100),log=True)\n",
    "print len(f[f>0])/float(len(f))\n",
    "print len(f)\n",
    "\n",
    "\n",
    "plt.figure()\n",
    "X2 = np.sort(f)\n",
    "F2 = np.ones(len(f)) - np.array(range(len(f))) / float(len(f))\n",
    "plt.plot(X2, F2)\n"
   ]
  },
  {
   "cell_type": "code",
   "execution_count": 26,
   "metadata": {
    "collapsed": false
   },
   "outputs": [
    {
     "data": {
      "text/plain": [
       "<matplotlib.legend.Legend at 0x108f3d890>"
      ]
     },
     "execution_count": 26,
     "metadata": {},
     "output_type": "execute_result"
    },
    {
     "data": {
      "image/png": "[encoded data removed]",
      "text/plain": [
       "<matplotlib.figure.Figure at 0x108f52110>"
      ]
     },
     "metadata": {},
     "output_type": "display_data"
    },
    {
     "data": {
      "image/png": "[encoded data removed]",
      "text/plain": [
       "<matplotlib.figure.Figure at 0x106d8c710>"
      ]
     },
     "metadata": {},
     "output_type": "display_data"
    }
   ],
   "source": [
    "\n",
    "f0 = np.load(\"output/test_llh_0_2.10_0.npy\")\n",
    "f5 = np.load(\"output/test_llh_5_2.10_0.npy\")\n",
    "f2 = np.load(\"output/test_llh_2_2.10_0.npy\")\n",
    "f1 = np.load(\"output/test_llh_1_2.10_0.npy\")\n",
    "f10 = np.load(\"output/test_llh_10_2.10_0.npy\")\n",
    "\n",
    "\n",
    "plt.figure()\n",
    "h = plt.hist(f0,bins=np.linspace(0,50,50), \n",
    "             weights=np.ones_like(f0)/float(len(f0)),histtype='step', label='n=0', log=True)\n",
    "h = plt.hist(f5,bins=np.linspace(0,50,50), \n",
    "             weights=np.ones_like(f5)/float(len(f5)),histtype='step', label='n=5', log=True)\n",
    "h = plt.hist(f2,bins=np.linspace(0,50,50), \n",
    "             weights=np.ones_like(f2)/float(len(f2)),histtype='step', label='n=2', log=True)\n",
    "h = plt.hist(f1,bins=np.linspace(0,50,50), \n",
    "             weights=np.ones_like(f1)/float(len(f1)),histtype='step', label='n=1', log=True)\n",
    "h = plt.hist(f10,bins=np.linspace(0,50,50), \n",
    "             weights=np.ones_like(f10)/float(len(f10)),histtype='step', label='n=10', log=True)\n",
    "\n",
    "\n",
    "plt.figure()\n",
    "\n",
    "farray = [f0,f1,f2,f5,f10]\n",
    "l = ['n=0','n=1','n=2','n=5','n=10']\n",
    "\n",
    "for i in range(len(farray)):\n",
    "\n",
    "    X = np.sort(farray[i])\n",
    "    F = np.ones(len(farray[i])) - np.array(range(len(farray[i]))) / float(len(farray[i]))\n",
    "    plt.plot(X, F, label=l[i])\n",
    "\n",
    "plt.xlabel('TS')\n",
    "plt.ylabel('cumulative number of trials')\n",
    "plt.xlim(0,30)\n",
    "plt.legend()"
   ]
  },
  {
   "cell_type": "code",
   "execution_count": null,
   "metadata": {
    "collapsed": true
   },
   "outputs": [],
   "source": []
  }
 ],
 "metadata": {
  "kernelspec": {
   "display_name": "Python 2",
   "language": "python",
   "name": "python2"
  },
  "language_info": {
   "codemirror_mode": {
    "name": "ipython",
    "version": 2
   },
   "file_extension": ".py",
   "mimetype": "text/x-python",
   "name": "python",
   "nbconvert_exporter": "python",
   "pygments_lexer": "ipython2",
   "version": "2.7.10"
  }
 },
 "nbformat": 4,
 "nbformat_minor": 0
}
